{
 "cells": [
  {
   "cell_type": "markdown",
   "id": "561d09be-6d5f-4ff1-a7d5-64854dab0022",
   "metadata": {},
   "source": [
    "# question1) what is database?diff b/w sql and no sql database?\n",
    "\n",
    "  ans------database is an organised collection of data,so that it can be easily acccessed and managed,we can organise                data into tables,rows,columns and index it to make it easier to find relevant information.\n",
    "  \n",
    "  sql------relational database management system(rdbms)\n",
    "           these databases have fixed or static or predefined schema \n",
    "           these databases is not suitable for hierarchial data storage.\n",
    "           these dtabases are suited for complex queries\n",
    "           vertical scalable\n",
    "           follow acid property\n",
    "           ex-oracle,mysql,ms sql\n",
    "           \n",
    "  nosql----non relational or distributed databases system\n",
    "           they have dynamic schema.\n",
    "           these dtabases best suited for heirarchial databases.\n",
    "           these dtabases are not good for compex queries.\n",
    "           foloows cap.\n",
    "           ex--mongodb,cassandra,hbase."
   ]
  },
  {
   "cell_type": "markdown",
   "id": "6e33b6fa-b18c-4b17-ac22-d10df969f59a",
   "metadata": {},
   "source": [
    "# what is ddl? explain why create,drop,alter are used with n example?\n",
    "ans---------ddl is data definition language it is subset of sql.it simply deals with description of databases schem and               is used to create and modify the structure of databaseobjects in database\n",
    "\n",
    "create--these command is used to create database or its objects like(table,index function views,store procedures and              triggers\n",
    "\n",
    "drop-----these command is used to delete objects from database.\n",
    "\n",
    "truncate----these is used to remove all records from table,including all spaces allocated for the records are removed\n",
    "alter---these is used to ulter the structure of database."
   ]
  },
  {
   "cell_type": "markdown",
   "id": "d92e69de-b18f-45db-87a0-e8761ac331e3",
   "metadata": {},
   "source": [
    "# what is dml?explain insert,update and delete?\n",
    "\n",
    "\n",
    "ans---- the sql commands that deal with the manipulation of data present in the database belong to the data manipulation         language and these includes most of the sql statements.\n",
    "\n",
    "insert---used to insert data into table.\n",
    "\n",
    "update---update existing data within table.\n",
    "\n",
    "delete---delete record froma database table.\n",
    "\n"
   ]
  },
  {
   "cell_type": "markdown",
   "id": "b53de856-593d-4c54-8bfb-02986d0b7c1a",
   "metadata": {},
   "source": [
    "# what is dql?explain select?\n",
    "\n",
    "ans---dql statements are used for performing queries on the data within in schema objects.\n",
    "\n",
    "select--it is used to retrieve data from the database.\n",
    "\n",
    "SELECT column1,column2 FROM table.\n"
   ]
  },
  {
   "cell_type": "markdown",
   "id": "a346520a-b085-4676-96b1-ea387de477e6",
   "metadata": {},
   "source": [
    "# explain primary key and foriengn key?\n",
    "\n",
    "ans---[primary key]it is used to ensure data in the specif collumn is unique.a collumn cannot have null values.it is           either existing tables column or a column that is specifically genrated by the database according to a defined           sequence \n",
    "\n",
    "\n",
    "      [foreign key] a foreign key is a column or groups of columns in a relational database that provides a link b/w\n",
    "      data in 2 tables.it is a column that refrence a column(most oftn the primary key)of another tables."
   ]
  },
  {
   "cell_type": "markdown",
   "id": "d0583db9-f635-4ae6-a343-ef988efc55a9",
   "metadata": {},
   "source": [
    "# write a python code to connect my sql to python?explain the cursor() and execute() method?\n"
   ]
  },
  {
   "cell_type": "code",
   "execution_count": 1,
   "id": "612b77ae-30a8-4018-b069-c76b3a08c602",
   "metadata": {},
   "outputs": [
    {
     "ename": "ModuleNotFoundError",
     "evalue": "No module named 'mysql'",
     "output_type": "error",
     "traceback": [
      "\u001b[0;31m---------------------------------------------------------------------------\u001b[0m",
      "\u001b[0;31mModuleNotFoundError\u001b[0m                       Traceback (most recent call last)",
      "Cell \u001b[0;32mIn[1], line 1\u001b[0m\n\u001b[0;32m----> 1\u001b[0m \u001b[38;5;28;01mimport\u001b[39;00m \u001b[38;5;21;01mmysql\u001b[39;00m\u001b[38;5;21;01m.\u001b[39;00m\u001b[38;5;21;01mconnector\u001b[39;00m\n\u001b[1;32m      2\u001b[0m conn \u001b[38;5;241m=\u001b[39m mysql\u001b[38;5;241m.\u001b[39mconnector\u001b[38;5;241m.\u001b[39mconnect( user \u001b[38;5;241m=\u001b[39m \u001b[38;5;124m'\u001b[39m\u001b[38;5;124musername\u001b[39m\u001b[38;5;124m'\u001b[39m,\n\u001b[1;32m      3\u001b[0m                                 host \u001b[38;5;241m=\u001b[39m \u001b[38;5;124m'\u001b[39m\u001b[38;5;124mlocalhost\u001b[39m\u001b[38;5;124m'\u001b[39m,\n\u001b[1;32m      4\u001b[0m                                 database \u001b[38;5;241m=\u001b[39m \u001b[38;5;124m'\u001b[39m\u001b[38;5;124mdb_name\u001b[39m\u001b[38;5;124m'\u001b[39m)\n\u001b[1;32m      5\u001b[0m \u001b[38;5;28mprint\u001b[39m (conn)\n",
      "\u001b[0;31mModuleNotFoundError\u001b[0m: No module named 'mysql'"
     ]
    }
   ],
   "source": [
    "import mysql.connector\n",
    "conn = mysql.connector.connect( user = 'username',\n",
    "                                host = 'localhost',\n",
    "                                database = 'db_name')\n",
    "print (conn)\n",
    "conn.close()"
   ]
  },
  {
   "cell_type": "markdown",
   "id": "c44a822b-859a-493f-9577-548c10630489",
   "metadata": {},
   "source": [
    "# give the order of execution of sql clauses in an sql querry?\n"
   ]
  }
 ],
 "metadata": {
  "kernelspec": {
   "display_name": "Python 3 (ipykernel)",
   "language": "python",
   "name": "python3"
  },
  "language_info": {
   "codemirror_mode": {
    "name": "ipython",
    "version": 3
   },
   "file_extension": ".py",
   "mimetype": "text/x-python",
   "name": "python",
   "nbconvert_exporter": "python",
   "pygments_lexer": "ipython3",
   "version": "3.10.8"
  }
 },
 "nbformat": 4,
 "nbformat_minor": 5
}
